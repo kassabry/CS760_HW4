{
 "cells": [
  {
   "cell_type": "code",
   "execution_count": 8,
   "id": "d86319c9-337f-4161-b4c7-bed62a952fe6",
   "metadata": {},
   "outputs": [],
   "source": [
    "import math\n",
    "import pandas as pd\n",
    "import numpy as np\n",
    "from collections import defaultdict\n",
    "from pathlib import Path\n",
    "import sys\n",
    "import os"
   ]
  },
  {
   "cell_type": "markdown",
   "id": "31ce835e-d6ca-4731-90fe-a0da9e57e1c2",
   "metadata": {},
   "source": [
    "## Naive Bayes"
   ]
  },
  {
   "cell_type": "code",
   "execution_count": 73,
   "id": "73e74183-4fec-4e19-b11f-44d6755ffbed",
   "metadata": {},
   "outputs": [],
   "source": [
    "def get_probs(path, filelist, alpha, k):\n",
    "    e_dict = defaultdict()\n",
    "    j_dict = defaultdict()\n",
    "    s_dict = defaultdict()\n",
    "    for f in filelist:\n",
    "        with open(path + f) as file:\n",
    "            while True:\n",
    "                char = file.read(1)\n",
    "                if(f[0] == 'e'):\n",
    "                    if(char.isalpha() or char == ' '):\n",
    "                        if(char in e_dict):\n",
    "                            e_dict[char] += 1\n",
    "                        else:\n",
    "                            e_dict[char] = 1\n",
    "                elif(f[0] == 'j'):\n",
    "                    if(char.isalpha() or char == ' '):\n",
    "                        if(char in j_dict):\n",
    "                            j_dict[char] += 1\n",
    "                        else:\n",
    "                            j_dict[char] = 1\n",
    "                elif(f[0] == 's'):\n",
    "                    if(char.isalpha() or char == ' '):\n",
    "                        if(char in s_dict):\n",
    "                            s_dict[char] += 1\n",
    "                        else:\n",
    "                            s_dict[char] = 1\n",
    "                            \n",
    "                if not char:\n",
    "                    break\n",
    "                        \n",
    "    e_dict_sum = sum(e_dict.values())\n",
    "    j_dict_sum = sum(j_dict.values())\n",
    "    s_dict_sum = sum(s_dict.values())\n",
    "    for key in e_dict:\n",
    "        e_dict[key] = (e_dict[key] + alpha) / (e_dict_sum + k*alpha)\n",
    "    for key in j_dict:\n",
    "        j_dict[key] = (j_dict[key] + alpha) / (j_dict_sum + k*alpha)\n",
    "    for key in s_dict:\n",
    "        s_dict[key] = (s_dict[key] + alpha) / (s_dict_sum + k*alpha)\n",
    "        \n",
    "    j_dict.update({'x': (alpha / (j_dict_sum + k*alpha))})\n",
    "    \n",
    "    return e_dict, j_dict, s_dict"
   ]
  },
  {
   "cell_type": "code",
   "execution_count": 40,
   "id": "abdf605e-4cdd-464c-b8f6-1f9d75f7d897",
   "metadata": {},
   "outputs": [],
   "source": [
    "path = 'C://Users//ryank//School//Machine_Learning//HW4//hw4-1//train//'\n",
    "\n",
    "filelist = os.listdir(path)"
   ]
  },
  {
   "cell_type": "code",
   "execution_count": 74,
   "id": "5c318cc6-fab1-4d89-b090-8221f75e5daa",
   "metadata": {},
   "outputs": [],
   "source": [
    "e_dict, j_dict, s_dict = get_probs(path, filelist, 0.5, 27)"
   ]
  },
  {
   "cell_type": "code",
   "execution_count": 75,
   "id": "44d2abdc-74ab-448d-941f-75a59993985b",
   "metadata": {},
   "outputs": [
    {
     "data": {
      "text/plain": [
       "(defaultdict(None,\n",
       "             {'o': 0.06446390219725756,\n",
       "              'u': 0.026664463902197257,\n",
       "              'r': 0.053824549810011564,\n",
       "              ' ': 0.1792499586981662,\n",
       "              's': 0.06618205848339666,\n",
       "              'n': 0.057921691723112505,\n",
       "              'i': 0.055410540227986124,\n",
       "              'a': 0.0601685114819098,\n",
       "              'm': 0.020518751032545846,\n",
       "              'e': 0.1053692383941847,\n",
       "              'l': 0.028977366595076822,\n",
       "              'c': 0.021509995043779945,\n",
       "              't': 0.08012555757475633,\n",
       "              'g': 0.017478936064761277,\n",
       "              'f': 0.018932760614571286,\n",
       "              'h': 0.047216256401784236,\n",
       "              'v': 0.009284652238559392,\n",
       "              'w': 0.015496448042293078,\n",
       "              'd': 0.021972575582355856,\n",
       "              'y': 0.013844374690236246,\n",
       "              'p': 0.01675202378985627,\n",
       "              'k': 0.0037336857756484387,\n",
       "              'b': 0.011134974392863043,\n",
       "              'z': 0.0006277878737815959,\n",
       "              'j': 0.001420783082768875,\n",
       "              'x': 0.001156451346439782,\n",
       "              'q': 0.0005617049396993227}),\n",
       " defaultdict(None,\n",
       "             {'m': 0.03979873510604843,\n",
       "              'a': 0.1317656102589189,\n",
       "              'd': 0.01722631818022992,\n",
       "              ' ': 0.12344945665466997,\n",
       "              'e': 0.06020475907613823,\n",
       "              'k': 0.05740941332681086,\n",
       "              'i': 0.09703343932352633,\n",
       "              'n': 0.05671057688947902,\n",
       "              'y': 0.01415143785596981,\n",
       "              'o': 0.09116321324993885,\n",
       "              'g': 0.014011670568503443,\n",
       "              't': 0.056990111464411755,\n",
       "              'f': 0.003878542227191726,\n",
       "              'u': 0.07061742199238269,\n",
       "              'w': 0.01974212935462455,\n",
       "              's': 0.0421747789929767,\n",
       "              'r': 0.04280373178657535,\n",
       "              'h': 0.03176211607673224,\n",
       "              'c': 0.005485866033054963,\n",
       "              'b': 0.010866906600510151,\n",
       "              'p': 0.0008735455466648031,\n",
       "              'l': 0.001432614696530277,\n",
       "              'z': 0.00772214263251686,\n",
       "              'j': 0.0023411020650616725,\n",
       "              'v': 0.0002445927530661449,\n",
       "              'q': 0.00010482546559977637,\n",
       "              'x': 3.4941821866592126e-05}),\n",
       " defaultdict(None,\n",
       "             {'c': 0.03752582405722919,\n",
       "              'o': 0.07249236841293824,\n",
       "              'n': 0.054176559464709693,\n",
       "              ' ': 0.16826493170115014,\n",
       "              'e': 0.1138108599796491,\n",
       "              'l': 0.052943171656748174,\n",
       "              'r': 0.05929511886774999,\n",
       "              's': 0.06577040485954797,\n",
       "              'u': 0.03370232185254849,\n",
       "              't': 0.03561407295488884,\n",
       "              'a': 0.10456045141993771,\n",
       "              'd': 0.039745922111559924,\n",
       "              'i': 0.049859702136844375,\n",
       "              'v': 0.00588942678301625,\n",
       "              'g': 0.0071844839813758445,\n",
       "              'k': 0.0002775122567913416,\n",
       "              'f': 0.00860287996053159,\n",
       "              'j': 0.006629459467793161,\n",
       "              'p': 0.02426690512164287,\n",
       "              'q': 0.007677839104560451,\n",
       "              'z': 0.0026826184823163022,\n",
       "              'x': 0.0024976103111220747,\n",
       "              'm': 0.02580863988159477,\n",
       "              'w': 9.250408559711388e-05,\n",
       "              'h': 0.0045327001942585795,\n",
       "              'y': 0.007862847275754679,\n",
       "              'b': 0.008232863618143134}))"
      ]
     },
     "execution_count": 75,
     "metadata": {},
     "output_type": "execute_result"
    }
   ],
   "source": [
    "e_dict, j_dict, s_dict"
   ]
  },
  {
   "cell_type": "code",
   "execution_count": 76,
   "id": "4b7dfcf1-2702-4360-8bf0-409fc8869b31",
   "metadata": {},
   "outputs": [],
   "source": [
    "test_path = 'C://Users//ryank//School//Machine_Learning//HW4//hw4-1//test//'\n",
    "\n",
    "\n",
    "cv_e_dict = defaultdict()\n",
    "\n",
    "with open(test_path + 'e10.txt') as file:\n",
    "    while True:\n",
    "        char = file.read(1)\n",
    "        if(char.isalpha() or char == ' '):\n",
    "            if(char in cv_e_dict):\n",
    "                cv_e_dict[char] += 1\n",
    "            else:\n",
    "                cv_e_dict[char] = 1\n",
    "\n",
    "        if not char:\n",
    "            break"
   ]
  },
  {
   "cell_type": "code",
   "execution_count": 77,
   "id": "302b4eac-69b6-4869-8552-9e5ac5ac179a",
   "metadata": {},
   "outputs": [
    {
     "data": {
      "text/plain": [
       "defaultdict(None,\n",
       "            {'e': 311,\n",
       "             'x': 4,\n",
       "             'c': 53,\n",
       "             'p': 53,\n",
       "             't': 225,\n",
       "             ' ': 498,\n",
       "             'w': 47,\n",
       "             'h': 140,\n",
       "             'n': 139,\n",
       "             'i': 140,\n",
       "             'd': 57,\n",
       "             's': 186,\n",
       "             'r': 141,\n",
       "             'o': 182,\n",
       "             'a': 164,\n",
       "             'g': 51,\n",
       "             'm': 64,\n",
       "             'l': 85,\n",
       "             'v': 31,\n",
       "             'y': 38,\n",
       "             'q': 3,\n",
       "             'u': 65,\n",
       "             'f': 55,\n",
       "             'b': 32,\n",
       "             'z': 2,\n",
       "             'k': 6,\n",
       "             'j': 3})"
      ]
     },
     "execution_count": 77,
     "metadata": {},
     "output_type": "execute_result"
    }
   ],
   "source": [
    "cv_e_dict"
   ]
  },
  {
   "cell_type": "code",
   "execution_count": 78,
   "id": "910ff22d-8cb9-4515-8741-567576eac742",
   "metadata": {},
   "outputs": [],
   "source": [
    "test_prob_e = 0\n",
    "test_prob_j = 0 \n",
    "test_prob_s = 0\n",
    "\n",
    "with open(test_path + 'e10.txt') as file:\n",
    "    while True:\n",
    "        char = file.read(1)\n",
    "        if(char.isalpha() or char == ' '):    \n",
    "            test_prob_e += (cv_e_dict[char] * math.log(e_dict[char]))\n",
    "            test_prob_j += (cv_e_dict[char] * math.log(j_dict[char]))\n",
    "            test_prob_s += (cv_e_dict[char] * math.log(s_dict[char]))\n",
    "\n",
    "        if not char:\n",
    "            break"
   ]
  },
  {
   "cell_type": "code",
   "execution_count": 80,
   "id": "2a69f951-fb6d-4f0a-9cc0-cbc9c9699fb1",
   "metadata": {},
   "outputs": [],
   "source": [
    "def get_post_prob(file, cv_e_dict, e_dict, j_dict, s_dict):\n",
    "    test_prob_e = 0\n",
    "    test_prob_j = 0 \n",
    "    test_prob_s = 0\n",
    "\n",
    "    with open(file) as file:\n",
    "        while True:\n",
    "            char = file.read(1)\n",
    "            if(char.isalpha() or char == ' '):    \n",
    "                test_prob_e += (cv_e_dict[char] * math.log(e_dict[char]))\n",
    "                test_prob_j += (cv_e_dict[char] * math.log(j_dict[char]))\n",
    "                test_prob_s += (cv_e_dict[char] * math.log(s_dict[char]))\n",
    "\n",
    "\n",
    "            if not char:\n",
    "                break\n",
    "                \n",
    "    return [test_prob_e * (1/3),test_prob_j*(1/3),test_prob_s*(1/3)]"
   ]
  },
  {
   "cell_type": "code",
   "execution_count": 79,
   "id": "593b93f7-2fbc-41cd-9107-4fb909ecf420",
   "metadata": {},
   "outputs": [
    {
     "data": {
      "text/plain": [
       "(-1400741.4725990642, -1585503.6136986252, -1485651.9399239856)"
      ]
     },
     "execution_count": 79,
     "metadata": {},
     "output_type": "execute_result"
    }
   ],
   "source": [
    "test_prob_e, test_prob_j, test_prob_s"
   ]
  },
  {
   "cell_type": "code",
   "execution_count": 81,
   "id": "d51c6c54-c695-4f37-9d51-cb699acf49b3",
   "metadata": {},
   "outputs": [
    {
     "data": {
      "text/plain": [
       "(-466913.82419968804, -528501.2045662084, -495217.3133079952)"
      ]
     },
     "execution_count": 81,
     "metadata": {},
     "output_type": "execute_result"
    }
   ],
   "source": [
    "post_e = test_prob_e * (1/3)\n",
    "post_j = test_prob_j * (1/3)\n",
    "post_s = test_prob_s * (1/3)\n",
    "\n",
    "post_e, post_j, post_s"
   ]
  },
  {
   "cell_type": "code",
   "execution_count": 61,
   "id": "6ce516ff-b9dc-4b35-ae43-171551ecb09f",
   "metadata": {},
   "outputs": [],
   "source": [
    "test_total_path = 'C://Users//ryank//School//Machine_Learning//HW4//hw4-1//test_total//'\n",
    "test_filelist = os.listdir(test_total_path)"
   ]
  },
  {
   "cell_type": "code",
   "execution_count": 65,
   "id": "c51fae2b-be37-4ddb-9887-c769232666c8",
   "metadata": {},
   "outputs": [],
   "source": [
    "def convert_to_num(char):\n",
    "    if(char == 'e'):\n",
    "        return 0\n",
    "    elif(char == 'j'):\n",
    "        return 1\n",
    "    elif(char == 's'):\n",
    "        return 2"
   ]
  },
  {
   "cell_type": "code",
   "execution_count": 82,
   "id": "da5bf40f-a14d-425b-806f-c64ec3d96ad5",
   "metadata": {},
   "outputs": [],
   "source": [
    "actual = []\n",
    "pred = []\n",
    "for f in test_filelist:\n",
    "    actual.append(convert_to_num(f[0]))\n",
    "    file = test_total_path + f\n",
    "    post_prob_list = get_post_prob(file, cv_e_dict, e_dict, j_dict, s_dict)\n",
    "    pred.append(max( (v, i) for i, v in enumerate(post_prob_list) )[1])"
   ]
  },
  {
   "cell_type": "code",
   "execution_count": 83,
   "id": "2702ffe7-5c43-4960-8140-250d4c5915a9",
   "metadata": {},
   "outputs": [
    {
     "data": {
      "text/plain": [
       "([0,\n",
       "  0,\n",
       "  0,\n",
       "  0,\n",
       "  0,\n",
       "  0,\n",
       "  0,\n",
       "  0,\n",
       "  0,\n",
       "  0,\n",
       "  0,\n",
       "  0,\n",
       "  0,\n",
       "  0,\n",
       "  0,\n",
       "  0,\n",
       "  0,\n",
       "  0,\n",
       "  0,\n",
       "  0,\n",
       "  2,\n",
       "  2,\n",
       "  2,\n",
       "  2,\n",
       "  2,\n",
       "  2,\n",
       "  2,\n",
       "  2,\n",
       "  2,\n",
       "  2],\n",
       " [0,\n",
       "  0,\n",
       "  0,\n",
       "  0,\n",
       "  0,\n",
       "  0,\n",
       "  0,\n",
       "  0,\n",
       "  0,\n",
       "  0,\n",
       "  1,\n",
       "  1,\n",
       "  1,\n",
       "  1,\n",
       "  1,\n",
       "  1,\n",
       "  1,\n",
       "  1,\n",
       "  1,\n",
       "  1,\n",
       "  2,\n",
       "  2,\n",
       "  2,\n",
       "  2,\n",
       "  2,\n",
       "  2,\n",
       "  2,\n",
       "  2,\n",
       "  2,\n",
       "  2])"
      ]
     },
     "execution_count": 83,
     "metadata": {},
     "output_type": "execute_result"
    }
   ],
   "source": [
    "pred, actual"
   ]
  },
  {
   "cell_type": "code",
   "execution_count": 89,
   "id": "0b130c48-db1d-485e-9fcc-66fc19ede5a1",
   "metadata": {},
   "outputs": [],
   "source": [
    "import random\n",
    "\n",
    "original = []\n",
    "with open(test_total_path + 'e12.txt') as file:\n",
    "    while True:\n",
    "        char = file.read(1)\n",
    "        if(char.isalpha() or char==' '):\n",
    "            original.append(char)\n",
    "        if not char:\n",
    "            break\n",
    "            \n",
    "scrambled = random.sample(original, k=len(original))"
   ]
  },
  {
   "cell_type": "code",
   "execution_count": 97,
   "id": "cb8e516f-dc33-4ca3-826b-7f8f1afdc783",
   "metadata": {},
   "outputs": [
    {
     "name": "stdout",
     "output_type": "stream",
     "text": [
      "-965253.9397588029 -1086791.2946635531 -1025851.3642505035\n"
     ]
    }
   ],
   "source": [
    "t_p_e = 0\n",
    "t_p_j = 0\n",
    "t_p_s = 0\n",
    "\n",
    "for char in scrambled:\n",
    "    if(char.isalpha() or char == ' '):\n",
    "        t_p_e += (cv_e_dict[char] * math.log(e_dict[char]))\n",
    "        t_p_j += (cv_e_dict[char] * math.log(j_dict[char]))\n",
    "        t_p_s += (cv_e_dict[char] * math.log(s_dict[char]))\n",
    "\n",
    "    else:\n",
    "        break\n",
    "    \n",
    "print(t_p_e, t_p_j, t_p_s)"
   ]
  },
  {
   "cell_type": "markdown",
   "id": "088d2cb6-aead-42a5-9ab4-d33ada62829a",
   "metadata": {},
   "source": [
    "## Neural Network Implementation"
   ]
  },
  {
   "cell_type": "code",
   "execution_count": 98,
   "id": "0283196e-cec2-4bd0-b654-482d549d791b",
   "metadata": {},
   "outputs": [],
   "source": [
    "import keras\n",
    "import numpy as np\n",
    "import matplotlib.pyplot as plt\n",
    "from keras.datasets import mnist"
   ]
  },
  {
   "cell_type": "code",
   "execution_count": 153,
   "id": "0dab1383-e6c5-4697-823e-569ed174a09a",
   "metadata": {},
   "outputs": [],
   "source": [
    "(x_train, y_train), (x_test, y_test) = mnist.load_data()"
   ]
  },
  {
   "cell_type": "code",
   "execution_count": 154,
   "id": "15621072-b749-40ac-bc1e-4e94e96c3d85",
   "metadata": {},
   "outputs": [],
   "source": [
    "X = x_train; Y = y_train\n",
    "zeros = np.zeros(10); zeros[Y] = 1\n",
    "\n",
    "X.shape, Y.shape\n",
    "\n",
    "X = X.reshape(60000, 784)\n"
   ]
  },
  {
   "cell_type": "code",
   "execution_count": 161,
   "id": "ec532c4e-454e-47ba-ba9f-3eada5be3358",
   "metadata": {},
   "outputs": [],
   "source": [
    "class NeuralNetwork:\n",
    "    def __init__(self, num_hidden_nodes_1, num_hidden_nodes_2, num_classes, lr=0.01):\n",
    "        # set learning rate\n",
    "        self.lr = lr\n",
    "        \n",
    "        # init weights\n",
    "        self.W1 = np.random.uniform(-1,1,size=(784,num_hidden_nodes_1)) # np.zeros((784,num_hidden_nodes_1)) #np.random.uniform(-1e-3,1e-3,size=(784,num_hidden_nodes_1)) # #\n",
    "        self.b1 = np.zeros((1,num_hidden_nodes_1))\n",
    "        \n",
    "        self.W2 = np.random.uniform(-1,1,size=(num_hidden_nodes_1,num_hidden_nodes_2)) #np.zeros((num_hidden_nodes_1,num_hidden_nodes_2)) # np.random.uniform(-1e-3,1e-3,size=(num_hidden_nodes_1,num_hidden_nodes_2)) # #\n",
    "        self.b2 = np.zeros((1,num_hidden_nodes_2))\n",
    "        \n",
    "        self.W3 = np.random.uniform(-1,1,size=(num_hidden_nodes_2,num_classes)) #np.zeros((num_hidden_nodes_2,num_classes)) #np.random.uniform(-1e-3,1e-3,size=(num_hidden_nodes_2,num_classes)) # #\n",
    "        self.b3 = np.zeros((1,num_classes))\n",
    "    \n",
    "    def forward(self, X1):\n",
    "        '''\n",
    "        Forward pass through the network\n",
    "        \n",
    "        INPUT\n",
    "            X: input to network\n",
    "                shape: (?, 784)\n",
    "        \n",
    "        RETURN\n",
    "            Y_hat: prediction from output of network \n",
    "                shape: (?, 10)\n",
    "        '''\n",
    "        # store input for backward pass\n",
    "        \n",
    "        # you can basically copy and past what you did in the forward pass above here\n",
    "        \n",
    "        # think about what you need to store for the backward pass\n",
    "        \n",
    "        def sigmoid(z):\n",
    "            return 1 / (1 + np.exp(- z))\n",
    "\n",
    "        def d_sigmoid(g):\n",
    "            return sigmoid(g) * (1. - sigmoid(g))\n",
    "        \n",
    "        def softmax(z):\n",
    "            # subracting the max adds numerical stability\n",
    "            shiftx = z - np.max(z,axis=1)[:,np.newaxis]\n",
    "            exps = np.exp(shiftx)\n",
    "            return exps / np.sum(exps,axis=1)[:,np.newaxis]\n",
    "\n",
    "        def d_softmax(Y_hat, Y):\n",
    "            return Y_hat - Y\n",
    "        \n",
    "        self.X1 =  X1\n",
    "        self.Z1 = np.dot(self.X1, self.W1) + self.b1\n",
    "        self.X2 = sigmoid(self.Z1)\n",
    "        self.Z2 = np.dot(self.X2, self.W2) + self.b2\n",
    "        self.X3 = sigmoid(self.Z2)\n",
    "        self.Z3 = np.dot(self.X3, self.W3) + self.b3\n",
    "        Y_hat = softmax(self.Z3)\n",
    "        \n",
    "        \n",
    "        return Y_hat\n",
    "    \n",
    "    def backward(self, Y_hat, Y):\n",
    "        '''\n",
    "        Backward pass through network. Update parameters \n",
    "        \n",
    "        INPUT\n",
    "            Y_hat: Network predicted \n",
    "                shape: (?, 10)\n",
    "            \n",
    "            Y: Correct target\n",
    "                shape: (?, 10)\n",
    "            \n",
    "        RETURN \n",
    "            cost: calculate J for errors \n",
    "                type: (float)\n",
    "            \n",
    "        '''\n",
    "        # calculate the cost\n",
    "        cost = float(-np.sum(Y * np.log(Y_hat)))\n",
    "        \n",
    "        # calc gradients\n",
    "        dJ_dZ3 = d_softmax(Y_hat, Y)\n",
    "        dJ_dW3 = np.dot(self.X3.T, dJ_dZ3)\n",
    "        dJ_db3 = Y_hat - Y\n",
    "        dJ_dX3 = np.dot(dJ_dZ3, self.W3.T)\n",
    "\n",
    "        dJ_dZ2 = dJ_dX3 * d_sigmoid(self.Z2)\n",
    "        dJ_dW2 = np.dot(self.X2.T, dJ_dZ2)\n",
    "        dJ_db2 = np.matmul((Y_hat - Y), np.transpose(self.W3)) * d_sigmoid(self.Z2)\n",
    "        dJ_dX2 = np.dot(dJ_dZ2, self.W2.T)\n",
    "\n",
    "        dJ_dZ1 = dJ_dX2 * d_sigmoid(self.Z1)\n",
    "        dJ_dW1 = np.dot(self.X1.T, dJ_dZ1)\n",
    "        dJ_db1 = np.dot(np.matmul((Y_hat - Y), np.transpose(self.W3)), self.W2.T) * d_sigmoid(self.Z1)\n",
    "\n",
    "        self.W3 -= (self.lr * dJ_dW3)\n",
    "        self.b3 -= (self.lr * dJ_db3)\n",
    "        self.W2 -= (self.lr * dJ_dW2)\n",
    "        self.b2 -= (self.lr * dJ_db2)\n",
    "        self.W1 -= (self.lr * dJ_dW1)\n",
    "        self.b1 -= (self.lr * dJ_db1)\n",
    "\n",
    "        return cost"
   ]
  },
  {
   "cell_type": "code",
   "execution_count": 162,
   "id": "af95ad27-ed35-401d-a43c-669645f5314f",
   "metadata": {},
   "outputs": [
    {
     "name": "stdout",
     "output_type": "stream",
     "text": [
      "Epoch: 0, Train Accuracy: 87.85%, Train Cost: 0.41, Test Accuracy: 92.21%\n",
      "Epoch: 1, Train Accuracy: 94.57%, Train Cost: 0.18, Test Accuracy: 93.72%\n",
      "Epoch: 2, Train Accuracy: 96.46%, Train Cost: 0.12, Test Accuracy: 94.61%\n",
      "Epoch: 3, Train Accuracy: 97.45%, Train Cost: 0.09, Test Accuracy: 94.92%\n",
      "Epoch: 4, Train Accuracy: 98.29%, Train Cost: 0.06, Test Accuracy: 94.99%\n",
      "Epoch: 5, Train Accuracy: 98.83%, Train Cost: 0.05, Test Accuracy: 95.22%\n",
      "Epoch: 6, Train Accuracy: 99.25%, Train Cost: 0.04, Test Accuracy: 95.49%\n",
      "Epoch: 7, Train Accuracy: 99.5%, Train Cost: 0.03, Test Accuracy: 95.55%\n",
      "Epoch: 8, Train Accuracy: 99.69%, Train Cost: 0.02, Test Accuracy: 95.74%\n",
      "Epoch: 9, Train Accuracy: 99.83%, Train Cost: 0.02, Test Accuracy: 95.87%\n"
     ]
    }
   ],
   "source": [
    "nn = NeuralNetwork(512, 256,10,lr=.01)\n",
    "num_train = float(len(x_train)); num_test = float(len(x_test))\n",
    "train_cost_store = []\n",
    "train_acc_store = []\n",
    "test_acc_store = []\n",
    "epochs = []\n",
    "\n",
    "for epoch in range(10):\n",
    "    train_correct = 0; train_cost = 0\n",
    "    # training loop\n",
    "    for i in range(len(x_train)):\n",
    "        x = x_train[i]; y = y_train[i]\n",
    "        # standardizing input to range 0 to 1\n",
    "        X = x.reshape(1,784) /255.\n",
    "        \n",
    "        # forward pass through network\n",
    "        Y_hat = nn.forward(X)\n",
    "\n",
    "        # get pred number\n",
    "        pred_num = np.argmax(Y_hat)\n",
    "        \n",
    "        # check if prediction was accurate\n",
    "        if pred_num == y:\n",
    "            train_correct += 1\n",
    "            \n",
    "        # make a one hot categorical vector; same as keras.utils.to_categorical()\n",
    "        zeros = np.zeros(10); zeros[y] = 1\n",
    "        Y = zeros\n",
    "        \n",
    "        # compute gradients and update weights\n",
    "        train_cost += nn.backward(Y_hat, Y)\n",
    "    \n",
    "    test_correct = 0\n",
    "    # validation loop\n",
    "    for i in range(len(x_test)):\n",
    "        x = x_test[i]; y = y_test[i]\n",
    "        # standardizing input to range 0 to 1\n",
    "        X = x.reshape(1,784) /255.\n",
    "        \n",
    "        # forward pass\n",
    "        Y_hat = nn.forward(X)\n",
    "        \n",
    "        # get pred number\n",
    "        pred_num = np.argmax(Y_hat)\n",
    "        \n",
    "        # check if prediction was correct\n",
    "        if pred_num == y:\n",
    "            test_correct += 1\n",
    "            \n",
    "        # no backward pass here!\n",
    "        \n",
    "    # compute average metrics for train and test\n",
    "    train_correct = round(100*(train_correct/num_train), 2)\n",
    "    test_correct = round(100*(test_correct/num_test ), 2)\n",
    "    train_cost = round( train_cost/num_train, 2)\n",
    "    \n",
    "    train_acc_store.append(train_correct)\n",
    "    test_acc_store.append(test_correct)\n",
    "    train_cost_store.append(train_cost)\n",
    "    epochs.append(epoch)\n",
    "    \n",
    "    # print status message every epoch\n",
    "    log_message = 'Epoch: {epoch}, Train Accuracy: {train_acc}%, Train Cost: {train_cost}, Test Accuracy: {test_acc}%'.format(\n",
    "        epoch=epoch, \n",
    "        train_acc=train_correct, \n",
    "        train_cost=train_cost, \n",
    "        test_acc=test_correct\n",
    "    )\n",
    "    print (log_message)"
   ]
  },
  {
   "cell_type": "code",
   "execution_count": 163,
   "id": "443c678d-2d33-421b-87f4-78a1697ea479",
   "metadata": {},
   "outputs": [
    {
     "data": {
      "image/png": "[encoded data removed]",
      "text/plain": [
       "<Figure size 432x288 with 1 Axes>"
      ]
     },
     "metadata": {
      "needs_background": "light"
     },
     "output_type": "display_data"
    }
   ],
   "source": [
    "plt.plot(epochs, train_acc_store, label=\"Training Accuracy\")\n",
    "plt.plot(epochs, test_acc_store, label=\"Testing Accuracy\")\n",
    "plt.legend()\n",
    "plt.xlabel(\"Epochs\")\n",
    "plt.ylabel(\"Accuracy\")\n",
    "plt.savefig('4_3_2.png')"
   ]
  },
  {
   "cell_type": "code",
   "execution_count": 139,
   "id": "18044099-6ed1-4bd6-a78d-c24dd927fa51",
   "metadata": {},
   "outputs": [
    {
     "data": {
      "image/png": "[encoded data removed]",
      "text/plain": [
       "<Figure size 432x288 with 1 Axes>"
      ]
     },
     "metadata": {
      "needs_background": "light"
     },
     "output_type": "display_data"
    }
   ],
   "source": [
    "plt.plot(epochs, train_cost_store, label=\"Training Cost\")\n",
    "plt.xlabel(\"Epochs\")\n",
    "plt.ylabel(\"Training Cost\")\n",
    "plt.savefig('3_2_3.png')"
   ]
  },
  {
   "cell_type": "markdown",
   "id": "ea851594-ffd2-4cd5-a56e-be7223d55443",
   "metadata": {},
   "source": [
    "## Keras"
   ]
  },
  {
   "cell_type": "code",
   "execution_count": 140,
   "id": "e2f051cd-9e7a-437b-9856-1bdad638bff0",
   "metadata": {},
   "outputs": [],
   "source": [
    "from keras.models import Sequential\n",
    "from keras.layers.core import Dense\n",
    "\n",
    "num_classes = 10\n",
    "\n",
    "(x_train, y_train), (x_test, y_test) = mnist.load_data()\n",
    "\n",
    "x_train = x_train.astype('float32').reshape(-1,784)\n",
    "x_test = x_test.astype('float32').reshape(-1,784)\n",
    "\n",
    "x_train /= 255.; x_test /= 255.\n",
    "\n",
    "y_train = keras.utils.to_categorical(y_train, num_classes)\n",
    "y_test = keras.utils.to_categorical(y_test, num_classes)\n",
    "\n",
    "\n",
    "model = Sequential()\n",
    "model.add(Dense(512, activation='sigmoid',input_shape=(784,)))\n",
    "model.add(Dense(256, activation='sigmoid'))\n",
    "model.add(Dense(10, activation='softmax'))"
   ]
  },
  {
   "cell_type": "code",
   "execution_count": 141,
   "id": "9cebdb4c-2427-4f51-8026-bff2f8eebd44",
   "metadata": {},
   "outputs": [
    {
     "name": "stdout",
     "output_type": "stream",
     "text": [
      "Epoch 1/10\n",
      "1875/1875 [==============================] - 5s 3ms/step - loss: 2.1942 - accuracy: 0.2556 - val_loss: 2.0361 - val_accuracy: 0.4466\n",
      "Epoch 2/10\n",
      "1875/1875 [==============================] - 5s 3ms/step - loss: 1.8912 - accuracy: 0.5701 - val_loss: 1.7238 - val_accuracy: 0.6561\n",
      "Epoch 3/10\n",
      "1875/1875 [==============================] - 5s 3ms/step - loss: 1.5865 - accuracy: 0.7019 - val_loss: 1.4184 - val_accuracy: 0.7441\n",
      "Epoch 4/10\n",
      "1875/1875 [==============================] - 5s 3ms/step - loss: 1.3053 - accuracy: 0.7616 - val_loss: 1.1565 - val_accuracy: 0.7942\n",
      "Epoch 5/10\n",
      "1875/1875 [==============================] - 5s 3ms/step - loss: 1.0765 - accuracy: 0.7957 - val_loss: 0.9574 - val_accuracy: 0.8188\n",
      "Epoch 6/10\n",
      "1875/1875 [==============================] - 5s 3ms/step - loss: 0.9075 - accuracy: 0.8190 - val_loss: 0.8143 - val_accuracy: 0.8346\n",
      "Epoch 7/10\n",
      "1875/1875 [==============================] - 5s 3ms/step - loss: 0.7862 - accuracy: 0.8353 - val_loss: 0.7127 - val_accuracy: 0.8492\n",
      "Epoch 8/10\n",
      "1875/1875 [==============================] - 5s 3ms/step - loss: 0.6988 - accuracy: 0.8469 - val_loss: 0.6392 - val_accuracy: 0.8591\n",
      "Epoch 9/10\n",
      "1875/1875 [==============================] - 5s 3ms/step - loss: 0.6342 - accuracy: 0.8567 - val_loss: 0.5841 - val_accuracy: 0.8681\n",
      "Epoch 10/10\n",
      "1875/1875 [==============================] - 5s 3ms/step - loss: 0.5849 - accuracy: 0.8645 - val_loss: 0.5414 - val_accuracy: 0.8765\n"
     ]
    }
   ],
   "source": [
    "model.compile(loss=keras.losses.categorical_crossentropy,optimizer=keras.optimizers.Adadelta(),metrics=['accuracy'])\n",
    "history = model.fit(x_train, y_train,batch_size=32,epochs=10,verbose=1,validation_data=(x_test, y_test))"
   ]
  },
  {
   "cell_type": "code",
   "execution_count": 157,
   "id": "70307015-24a0-45dd-ae2d-8d64af6c5922",
   "metadata": {},
   "outputs": [
    {
     "data": {
      "image/png": "[encoded data removed]",
      "text/plain": [
       "<Figure size 432x288 with 1 Axes>"
      ]
     },
     "metadata": {
      "needs_background": "light"
     },
     "output_type": "display_data"
    }
   ],
   "source": [
    "plt.plot(history.history['val_accuracy'], label='Validation Accuracy')\n",
    "plt.plot(history.history['accuracy'], label='Training Accuracy')\n",
    "plt.title('Model Accuracy')\n",
    "plt.ylabel('Accuracy')\n",
    "plt.xlabel('Epoch')\n",
    "plt.legend(loc='best')\n",
    "plt.savefig('3_3_2.png')\n",
    "plt.show()"
   ]
  },
  {
   "cell_type": "code",
   "execution_count": 158,
   "id": "3ea5a622-c8e4-4c8c-8206-5b78fc2d5a47",
   "metadata": {},
   "outputs": [
    {
     "data": {
      "image/png": "[encoded data removed]",
      "text/plain": [
       "<Figure size 432x288 with 1 Axes>"
      ]
     },
     "metadata": {
      "needs_background": "light"
     },
     "output_type": "display_data"
    }
   ],
   "source": [
    "plt.plot(history.history['val_loss'], label='Validation Loss')\n",
    "plt.plot(history.history['loss'], label='Training Loss')\n",
    "plt.title('Model Loss')\n",
    "plt.ylabel('Loss')\n",
    "plt.xlabel('Epoch')\n",
    "plt.legend(loc='best')\n",
    "plt.savefig('3_3_3.png')\n",
    "plt.show()"
   ]
  },
  {
   "cell_type": "code",
   "execution_count": null,
   "id": "4804e0b4-daf9-40f1-a65a-0c4153401d0a",
   "metadata": {},
   "outputs": [],
   "source": []
  }
 ],
 "metadata": {
  "kernelspec": {
   "display_name": "Python 3 (ipykernel)",
   "language": "python",
   "name": "python3"
  },
  "language_info": {
   "codemirror_mode": {
    "name": "ipython",
    "version": 3
   },
   "file_extension": ".py",
   "mimetype": "text/x-python",
   "name": "python",
   "nbconvert_exporter": "python",
   "pygments_lexer": "ipython3",
   "version": "3.10.0"
  }
 },
 "nbformat": 4,
 "nbformat_minor": 5
}
